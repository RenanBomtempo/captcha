{
 "cells": [
  {
   "cell_type": "code",
   "execution_count": 1,
   "metadata": {},
   "outputs": [],
   "source": [
    "import numpy as np\n",
    "\n",
    "# CNN\n",
    "from keras.models import Sequential\n",
    "from keras.layers import Dense, Dropout, Activation, Flatten\n",
    "from keras.layers.convolutional import Conv2D, MaxPooling2D\n",
    "from keras.utils import np_utils\n",
    "\n",
    "# plot\n",
    "from matplotlib import pyplot as plt\n",
    "%matplotlib inline  \n",
    "import os\n",
    "from PIL import Image\n",
    "import tensorflow as tf\n",
    "import glob\n",
    "\n",
    "np.random.seed(123)  # for reproducibility\n",
    "captcha_num_chars = 6\n",
    "num_chars = 36"
   ]
  },
  {
   "cell_type": "markdown",
   "metadata": {},
   "source": [
    "# Abrir dataset"
   ]
  },
  {
   "cell_type": "code",
   "execution_count": null,
   "metadata": {},
   "outputs": [],
   "source": [
    "# Filelist dos dados\n",
    "test_filelist = glob.glob('dados/teste/*.jpg')\n",
    "valid_filelist = glob.glob('dados/validacao/*.jpg')\n",
    "train_filelist = glob.glob('dados/treinamento/*.jpg')\n",
    "labels_filelist = glob.glob('dados/labels10k/*.txt')\n",
    "\n",
    "# Importar imagens\n",
    "test  = np.array([np.array(Image.open(file).getchannel('R')) for file in test_filelist])\n",
    "valid = np.array([np.array(Image.open(file).getchannel('R')) for file in valid_filelist])\n",
    "train = np.array([np.array(Image.open(file).getchannel('R')) for file in train_filelist])\n",
    "\n",
    "# Importar labels\n",
    "all_labels = [open(file, \"r\").read(captcha_num_chars) for file in labels_filelist]\n",
    "test_lbs  = all_labels[9000:10000]\n",
    "valid_lbs = all_labels[8000:9000]\n",
    "train_lbs = all_labels[:8000]\n",
    "\n",
    "# Eliminar captchas com '?'\n",
    "def removeInterrogation(ims, lbs):\n",
    "    temp_lb = []\n",
    "    temp_im = []\n",
    "\n",
    "    for i in range(len(lbs)):\n",
    "        s = list(lbs[i])\n",
    "        if '?' not in s:\n",
    "            temp_im.append(ims[i])\n",
    "            temp_lb.append(lbs[i])\n",
    "            \n",
    "    return np.array(temp_im), temp_lb\n",
    "\n",
    "test,  test_lbs  = removeInterrogation(test, test_lbs)\n",
    "train, train_lbs = removeInterrogation(train, train_lbs)\n",
    "valid, valid_lbs = removeInterrogation(valid, valid_lbs)\n",
    "\n",
    "print(test_lbs[0])\n",
    "print(type(test))\n",
    "plt.imshow(test[0], cmap='gray')"
   ]
  },
  {
   "cell_type": "markdown",
   "metadata": {},
   "source": [
    "## Cortar as imagens"
   ]
  },
  {
   "cell_type": "code",
   "execution_count": 3,
   "metadata": {},
   "outputs": [],
   "source": [
    "def cropCaptchas(arr):\n",
    "    arr_cpd = []\n",
    "    for im in arr:\n",
    "        captcha = im[:,6:]\n",
    "        for i in range(6):\n",
    "            arr_cpd.append(captcha[:,29*i:29*i+29])\n",
    "    return np.array(arr_cpd)\n",
    "\n",
    "def cropLabels(arr):\n",
    "    arr_cpd = []\n",
    "    for s in arr:\n",
    "        s = list(s)\n",
    "        for i in range(6):\n",
    "            arr_cpd.append(s[i])\n",
    "    return arr_cpd\n",
    "    \n",
    "test_cpd  = cropCaptchas(test)\n",
    "train_cpd = cropCaptchas(train)\n",
    "valid_cpd = cropCaptchas(valid)\n",
    "\n",
    "test_lbs  = cropLabels(test_lbs)\n",
    "train_lbs = cropLabels(train_lbs)\n",
    "valid_lbs = cropLabels(valid_lbs)"
   ]
  },
  {
   "cell_type": "markdown",
   "metadata": {},
   "source": [
    "## Preprocessamento dos dados de entrada para o Keras"
   ]
  },
  {
   "cell_type": "code",
   "execution_count": 4,
   "metadata": {},
   "outputs": [
    {
     "name": "stdout",
     "output_type": "stream",
     "text": [
      "(6000, 50, 29, 1)\n"
     ]
    }
   ],
   "source": [
    "height, width = 50, 29\n",
    "# Reshape dos arrays\n",
    "test  = test_cpd.reshape(test_cpd.shape[0], height, width, 1)\n",
    "train = train_cpd.reshape(train_cpd.shape[0], height, width, 1)\n",
    "valid = valid_cpd.reshape(valid_cpd.shape[0], height, width, 1)\n",
    "\n",
    "print(valid.shape)"
   ]
  },
  {
   "cell_type": "code",
   "execution_count": 5,
   "metadata": {},
   "outputs": [],
   "source": [
    "# Normalização dos valores dos pixels para [0,1]\n",
    "test = test.astype('float32') \n",
    "test /= 255\n",
    "valid = valid.astype('float32') \n",
    "valid /= 255\n",
    "train = train.astype('float32')\n",
    "train /= 255"
   ]
  },
  {
   "cell_type": "markdown",
   "metadata": {},
   "source": [
    "## Preprocessamento dos lables das classes para o Keras"
   ]
  },
  {
   "cell_type": "code",
   "execution_count": 6,
   "metadata": {},
   "outputs": [],
   "source": [
    "chars = list('0123456789ABCDEFGHIJKLMNOPQRSTUVWXYZ')\n",
    "def toCategorical(arr):\n",
    "    cat = []\n",
    "    for c in arr:\n",
    "        vec = np.zeros((36), dtype='float32')\n",
    "        vec[chars.index(c)] = 1.\n",
    "        cat.append(vec)\n",
    "    return np.array(cat)"
   ]
  },
  {
   "cell_type": "code",
   "execution_count": 8,
   "metadata": {},
   "outputs": [
    {
     "name": "stdout",
     "output_type": "stream",
     "text": [
      "(6000, 50, 29, 1)\n",
      "class ID:  J\n",
      "Network output:  [0. 0. 0. 0. 0. 0. 0. 0. 0. 0. 0. 0. 0. 0. 0. 0. 0. 0. 0. 1. 0. 0. 0. 0.\n",
      " 0. 0. 0. 0. 0. 0. 0. 0. 0. 0. 0. 0.]\n"
     ]
    }
   ],
   "source": [
    "Test  = toCategorical(test_lbs)\n",
    "Valid = toCategorical(valid_lbs)\n",
    "Train = toCategorical(train_lbs)\n",
    "\n",
    "print(test.shape)\n",
    "print(\"class ID: \", test_lbs[0])\n",
    "print(\"Network output: \", Test[0])"
   ]
  },
  {
   "cell_type": "markdown",
   "metadata": {},
   "source": [
    "# Definir arquitetura do modelo"
   ]
  },
  {
   "cell_type": "code",
   "execution_count": null,
   "metadata": {},
   "outputs": [],
   "source": []
  }
 ],
 "metadata": {
  "kernelspec": {
   "display_name": "Python 3",
   "language": "python",
   "name": "python3"
  },
  "language_info": {
   "codemirror_mode": {
    "name": "ipython",
    "version": 3
   },
   "file_extension": ".py",
   "mimetype": "text/x-python",
   "name": "python",
   "nbconvert_exporter": "python",
   "pygments_lexer": "ipython3",
   "version": "3.7.9"
  }
 },
 "nbformat": 4,
 "nbformat_minor": 2
}
